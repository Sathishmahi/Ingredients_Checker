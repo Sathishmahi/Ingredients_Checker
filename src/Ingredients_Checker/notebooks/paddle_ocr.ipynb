{
  "cells": [
    {
      "cell_type": "code",
      "execution_count": null,
      "metadata": {
        "id": "53w31DzJjLdf"
      },
      "outputs": [],
      "source": [
        "# !pip install transformers[sentencepiece] -q"
      ]
    },
    {
      "cell_type": "code",
      "execution_count": null,
      "metadata": {
        "id": "_Gt50OotjUvH"
      },
      "outputs": [],
      "source": [
        "# from transformers import AutoTokenizer,AutoModelForSeq2SeqLM"
      ]
    },
    {
      "cell_type": "code",
      "execution_count": null,
      "metadata": {
        "id": "vumS_E1kko_m"
      },
      "outputs": [],
      "source": [
        "# tokenizer=AutoTokenizer.from_pretrained(\"tuner007/pegasus_paraphrase\")\n",
        "# model=AutoModelForSeq2SeqLM.from_pretrained(\"tuner007/pegasus_paraphrase\")"
      ]
    },
    {
      "cell_type": "code",
      "execution_count": null,
      "metadata": {
        "id": "T0jA1fDalLDg"
      },
      "outputs": [],
      "source": [
        "# from transformers import pipeline\n"
      ]
    },
    {
      "cell_type": "code",
      "execution_count": null,
      "metadata": {
        "id": "LLqS_RNroNXi"
      },
      "outputs": [],
      "source": [
        "# !python3 -m pip install paddlepaddle-gpu\n",
        "!pip install \"paddleocr>=2.0.1\""
      ]
    },
    {
      "cell_type": "code",
      "execution_count": null,
      "metadata": {
        "id": "lSrnxmA1oV6_"
      },
      "outputs": [],
      "source": []
    },
    {
      "cell_type": "code",
      "execution_count": null,
      "metadata": {
        "id": "SdqCrFFwsIYU"
      },
      "outputs": [],
      "source": [
        "# !pip install paddlepaddle-gpu"
      ]
    },
    {
      "cell_type": "code",
      "execution_count": 5,
      "metadata": {
        "colab": {
          "base_uri": "https://localhost:8080/",
          "height": 1000
        },
        "id": "99qm-N_0omAF",
        "outputId": "890653ca-b732-406f-d288-5ede07311ac2"
      },
      "outputs": [],
      "source": [
        "from paddleocr import PaddleOCR,draw_ocr"
      ]
    },
    {
      "cell_type": "code",
      "execution_count": null,
      "metadata": {
        "id": "Shj49Ty6pBIi"
      },
      "outputs": [],
      "source": [
        "ocr=PaddleOCR(use_angle_cls=True,lang=\"en\")"
      ]
    },
    {
      "cell_type": "code",
      "execution_count": 7,
      "metadata": {
        "id": "0UzvZiU7tZjL"
      },
      "outputs": [
        {
          "name": "stdout",
          "output_type": "stream",
          "text": [
            "[2023/06/28 11:37:55] ppocr DEBUG: dt_boxes num : 10, elapse : 0.8189358711242676\n",
            "[2023/06/28 11:37:55] ppocr DEBUG: cls num  : 10, elapse : 0.1081230640411377\n",
            "[2023/06/28 11:37:57] ppocr DEBUG: rec_res num  : 10, elapse : 1.4756989479064941\n"
          ]
        }
      ],
      "source": [
        "result=ocr.ocr(\"/config/workspace/src/1f783016-fc7c-11ed-b2b0-0242ac1c000c.jpg\")"
      ]
    },
    {
      "cell_type": "code",
      "execution_count": 8,
      "metadata": {
        "id": "9iWNQic-uEQz"
      },
      "outputs": [
        {
          "data": {
            "text/plain": [
              "[[[[[359.0, 413.0], [737.0, 495.0], [728.0, 536.0], [350.0, 454.0]],\n",
              "   ('une oanoon', 0.6683396100997925)],\n",
              "  [[[1075.0, 420.0], [1267.0, 420.0], [1267.0, 491.0], [1075.0, 491.0]],\n",
              "   ('AI4', 0.574027419090271)],\n",
              "  [[[896.0, 591.0], [1056.0, 621.0], [1051.0, 647.0], [891.0, 618.0]],\n",
              "   ('INGREDIENTS.', 0.9573786854743958)],\n",
              "  [[[888.0, 620.0], [1054.0, 644.0], [1050.0, 671.0], [884.0, 646.0]],\n",
              "   ('Common Salt,', 0.8535522818565369)],\n",
              "  [[[1053.0, 621.0], [1162.0, 634.0], [1159.0, 661.0], [1050.0, 649.0]],\n",
              "   ('Dry ging', 0.789759635925293)],\n",
              "  [[[881.0, 646.0], [1100.0, 676.0], [1096.0, 703.0], [877.0, 673.0]],\n",
              "   ('Cardamom,Onion Can', 0.8530948162078857)],\n",
              "  [[[1063.0, 650.0], [1150.0, 661.0], [1147.0, 685.0], [1060.0, 674.0]],\n",
              "   ('Pappys', 0.9036827683448792)],\n",
              "  [[[865.0, 688.0], [1000.0, 697.0], [999.0, 719.0], [864.0, 712.0]],\n",
              "   ('(Splco0414', 0.777305006980896)]]]"
            ]
          },
          "execution_count": 8,
          "metadata": {},
          "output_type": "execute_result"
        }
      ],
      "source": [
        "result"
      ]
    },
    {
      "cell_type": "code",
      "execution_count": 9,
      "metadata": {
        "id": "iUdXNMr0uPpR"
      },
      "outputs": [],
      "source": [
        "ingre_str=\" \".join([i[1][0] for i in result[0]])"
      ]
    },
    {
      "cell_type": "code",
      "execution_count": 13,
      "metadata": {},
      "outputs": [
        {
          "data": {
            "text/plain": [
              "['une oanoon',\n",
              " 'AI4',\n",
              " 'INGREDIENTS.',\n",
              " 'Common Salt,',\n",
              " 'Dry ging',\n",
              " 'Cardamom,Onion Can',\n",
              " 'Pappys',\n",
              " '(Splco0414']"
            ]
          },
          "execution_count": 13,
          "metadata": {},
          "output_type": "execute_result"
        }
      ],
      "source": [
        "[i[1][0] for i in result[0]]"
      ]
    },
    {
      "cell_type": "code",
      "execution_count": 10,
      "metadata": {},
      "outputs": [
        {
          "data": {
            "text/plain": [
              "'une oanoon AI4 INGREDIENTS. Common Salt, Dry ging Cardamom,Onion Can Pappys (Splco0414'"
            ]
          },
          "execution_count": 10,
          "metadata": {},
          "output_type": "execute_result"
        }
      ],
      "source": [
        "ingre_str"
      ]
    },
    {
      "cell_type": "code",
      "execution_count": 11,
      "metadata": {
        "id": "M8AsX4uRu2rh"
      },
      "outputs": [],
      "source": [
        "comma_str=ingre_str.split(\",\")"
      ]
    },
    {
      "cell_type": "code",
      "execution_count": 15,
      "metadata": {
        "id": "lKsU_W2zvaWt"
      },
      "outputs": [
        {
          "data": {
            "text/plain": [
              "['une oanoon AI4 INGREDIENTS',\n",
              " ' Common Salt',\n",
              " ' Dry ging Cardamom',\n",
              " 'Onion Can Pappys (Splco0414']"
            ]
          },
          "execution_count": 15,
          "metadata": {},
          "output_type": "execute_result"
        }
      ],
      "source": [
        "sum([i.split('.') for i in comma_str],[])"
      ]
    },
    {
      "cell_type": "code",
      "execution_count": null,
      "metadata": {
        "id": "oEPsL6XevinA"
      },
      "outputs": [],
      "source": [
        "import cv2\n",
        "image = cv2.imread('/content/shampoo_ingre.jpg')\n",
        "grayscale = cv2.cvtColor(image, cv2.COLOR_BGR2GRAY)"
      ]
    },
    {
      "cell_type": "code",
      "execution_count": null,
      "metadata": {
        "id": "d3WXLgDF0LDq"
      },
      "outputs": [],
      "source": [
        "cv2.imwrite(\"b_w_ingre.jpg\",grayscale)"
      ]
    },
    {
      "cell_type": "code",
      "execution_count": null,
      "metadata": {
        "id": "xbVDzlm50e8C"
      },
      "outputs": [],
      "source": [
        "result_b_w=ocr.ocr(\"/content/b_w_ingre.jpg\")"
      ]
    },
    {
      "cell_type": "code",
      "execution_count": null,
      "metadata": {
        "id": "xp8TDOq301oS"
      },
      "outputs": [],
      "source": []
    },
    {
      "cell_type": "code",
      "execution_count": null,
      "metadata": {
        "id": "JedkIWxx0qUX"
      },
      "outputs": [],
      "source": [
        "result_b_w"
      ]
    },
    {
      "cell_type": "code",
      "execution_count": null,
      "metadata": {
        "id": "im51VSjE0xga"
      },
      "outputs": [],
      "source": [
        "final_ingre_list_RGB=[i.split('.') for i in comma_str]\n"
      ]
    },
    {
      "cell_type": "code",
      "execution_count": null,
      "metadata": {
        "id": "DzERZMgF08Cs"
      },
      "outputs": [],
      "source": [
        "ingre_str=\" \".join([i[1][0] for i in result_b_w[0]])"
      ]
    },
    {
      "cell_type": "code",
      "execution_count": null,
      "metadata": {
        "id": "jLuQHYFB08Cu"
      },
      "outputs": [],
      "source": [
        "comma_str=ingre_str.split(\",\")"
      ]
    },
    {
      "cell_type": "code",
      "execution_count": null,
      "metadata": {
        "id": "CMkT-uI-08Cw"
      },
      "outputs": [],
      "source": [
        "final_ingre_list_BW=[i.split('.') for i in comma_str]"
      ]
    },
    {
      "cell_type": "code",
      "execution_count": null,
      "metadata": {
        "id": "-Ex3XVmV1IVv"
      },
      "outputs": [],
      "source": [
        "final_ingre_list_RGB"
      ]
    },
    {
      "cell_type": "code",
      "execution_count": null,
      "metadata": {
        "id": "zU1vLg7r1MXl"
      },
      "outputs": [],
      "source": [
        "final_ingre_list_BW"
      ]
    },
    {
      "cell_type": "code",
      "execution_count": null,
      "metadata": {
        "id": "qjib-zKg1Ovp"
      },
      "outputs": [],
      "source": []
    },
    {
      "cell_type": "markdown",
      "metadata": {
        "id": "d9y8HQlNppyC"
      },
      "source": [
        "To Extract Harmful Ingredients"
      ]
    },
    {
      "cell_type": "code",
      "execution_count": null,
      "metadata": {
        "id": "YMBtyc1wpt_n"
      },
      "outputs": [],
      "source": [
        "from urllib.request import urlopen\n",
        "from bs4 import BeautifulSoup as bs"
      ]
    },
    {
      "cell_type": "code",
      "execution_count": null,
      "metadata": {
        "id": "EpdVetQgqBib"
      },
      "outputs": [],
      "source": [
        "con=urlopen(\"https://skinkraft.com/blogs/articles/toxic-ingredients-in-shampoos-and-conditioners\")"
      ]
    },
    {
      "cell_type": "code",
      "execution_count": null,
      "metadata": {
        "id": "DNwPt3E3qM9G"
      },
      "outputs": [],
      "source": [
        "raw_content=con.read()"
      ]
    },
    {
      "cell_type": "code",
      "execution_count": null,
      "metadata": {
        "id": "xK-pFVoXqScD"
      },
      "outputs": [],
      "source": [
        "con.close()"
      ]
    },
    {
      "cell_type": "code",
      "execution_count": null,
      "metadata": {
        "id": "uGRpyJwoqXlr"
      },
      "outputs": [],
      "source": [
        "html_content=bs(raw_content,\"html.parser\")"
      ]
    },
    {
      "cell_type": "code",
      "execution_count": null,
      "metadata": {
        "id": "OFR13SV_qZU8"
      },
      "outputs": [],
      "source": [
        "html_content.findAll(\"h3\",{\"class\":\"heading3\"})"
      ]
    },
    {
      "cell_type": "code",
      "execution_count": null,
      "metadata": {
        "id": "Sj4ZZ_MYq6In"
      },
      "outputs": [],
      "source": [
        "html_content.findAll(\"p\")"
      ]
    },
    {
      "cell_type": "code",
      "execution_count": null,
      "metadata": {
        "id": "aixhh8gDrLT7"
      },
      "outputs": [],
      "source": []
    },
    {
      "cell_type": "code",
      "execution_count": null,
      "metadata": {
        "id": "ZEpWt46Grclu"
      },
      "outputs": [],
      "source": [
        "main_class=\"homepage-slice-wrapper\"\n",
        "ingredient_class=\"css-1e3qj64 e1phjgwe103\"\n",
        "url=\"https://nutrafol.com/blog/hair-product-ingredients-to-avoid/\""
      ]
    },
    {
      "cell_type": "code",
      "execution_count": null,
      "metadata": {
        "id": "bJckz4kTt5Xj"
      },
      "outputs": [],
      "source": []
    },
    {
      "cell_type": "code",
      "execution_count": null,
      "metadata": {
        "id": "8eGrIkNlt5yO"
      },
      "outputs": [],
      "source": [
        "con=urlopen(url)"
      ]
    },
    {
      "cell_type": "code",
      "execution_count": null,
      "metadata": {
        "id": "8Bj4sRi3t5yQ"
      },
      "outputs": [],
      "source": [
        "raw_content=con.read()"
      ]
    },
    {
      "cell_type": "code",
      "execution_count": null,
      "metadata": {
        "id": "nkGkuZdlt5yR"
      },
      "outputs": [],
      "source": [
        "con.close()"
      ]
    },
    {
      "cell_type": "code",
      "execution_count": null,
      "metadata": {
        "id": "nFJbsCJkt5yT"
      },
      "outputs": [],
      "source": [
        "html_content=bs(raw_content,\"html.parser\")"
      ]
    },
    {
      "cell_type": "code",
      "execution_count": null,
      "metadata": {
        "id": "xOv-ZHM_t5yU"
      },
      "outputs": [],
      "source": [
        "all_ingre_content=html_content.findAll(\"div\",{\"class\":main_class})"
      ]
    },
    {
      "cell_type": "code",
      "execution_count": null,
      "metadata": {
        "colab": {
          "base_uri": "https://localhost:8080/"
        },
        "id": "5UcEagOAuDcm",
        "outputId": "22781012-d8bf-4089-ff81-bb9955bf1f41"
      },
      "outputs": [
        {
          "data": {
            "text/plain": [
              "40"
            ]
          },
          "execution_count": 33,
          "metadata": {},
          "output_type": "execute_result"
        }
      ],
      "source": [
        "len(all_ingre_content)"
      ]
    },
    {
      "cell_type": "code",
      "execution_count": null,
      "metadata": {
        "colab": {
          "base_uri": "https://localhost:8080/"
        },
        "id": "GBFu7R22uT3A",
        "outputId": "8eadca71-95c4-4112-801b-94abf3c89133"
      },
      "outputs": [
        {
          "name": "stdout",
          "output_type": "stream",
          "text": [
            "[]\n",
            "<p>You use hair care and styling products every day — but do you even know what’s actually <!-- --><em>in<!-- --></em> them? Take a look inside your bathroom cabinets and drawers. Chances are, you have a collection of hair products that are synthetically derived and filled with substances that can potentially harm your hair. That’s because the United States isn’t the most aggressive country when it comes to banning harmful chemicals in hair products: Europe and Canada have banned hundreds of ingredients that are unfortunately still permitted in the US market. This makes it especially important for American consumers to be aware of what ingredients are in their products.<!-- --></p>\n",
            "==========================================================================================\n",
            "[]\n",
            "<p>Not sure what to look out for? The experts at Nutrafol came up with a list of <!-- --><a href=\"https://nutrafol.com/blog/15-shampoo-ingredients-to-avoid/\">ingredients<!-- --></a> you should avoid putting in your hair. If you see any of these listed as an ingredient on a hair product, think twice before purchasing:<!-- --></p>\n",
            "==========================================================================================\n",
            "[<h2 class=\"css-1e3qj64 e1phjgwe103\">1. Mineral oil</h2>]\n",
            "[]\n",
            "<p>With its smoothing properties, mineral oil performs well as a detangler or hair conditioner. But mineral oil contains significant levels of PAHs (polyaromatic hydrocarbons), potentially linking it to <!-- --><a href=\"https://www.cancer.gov/about-cancer/causes-prevention/risk/substances/mineral-oils\">nonmelanoma skin cancer<!-- --></a>. Because cancer usually means some sort of dysregulated immune signaling — and immune signaling is crucial in a healthy cycling follicle — even a small amount of this ingredient could be harmful to hair cells.<!-- --></p>\n",
            "==========================================================================================\n",
            "[]\n",
            "[<h2 class=\"css-1e3qj64 e1phjgwe103\">2. Petroleum jelly</h2>]\n",
            "[]\n",
            "<p>Petroleum jelly comes from the same source as mineral oil and poses similar risks. This ingredient may be associated with an increased risk of cancer due to PAHs.<!-- --></p>\n",
            "==========================================================================================\n",
            "[<h2 class=\"css-1e3qj64 e1phjgwe103\">3. PVP/ VA copolymer</h2>]\n",
            "[]\n",
            "<p>PVP/VA copolymer is the ingredient found in most hair care products that provides the “hold factor.” (Think: hairsprays.) It is another toxic chemical derived from petroleum that’s known to cause irritation to the scalp, as well as respiratory issues in some people.<!-- --></p>\n",
            "==========================================================================================\n",
            "[<h2 class=\"css-1e3qj64 e1phjgwe103\">4. Sodium lauryl sulfate and sodium laureth sulfate</h2>]\n",
            "[]\n",
            "<p>Known as “sulfates,” these ingredients are used as cleansing or foaming agents in hair products. The U.S. Food and Drug Administration (FDA) hasn’t officially deemed sulfates “harmful,” but they can be drying to the scalp and strip hair from its natural moisture. Certain concentrations have been <!-- --><a href=\"https://www.ncbi.nlm.nih.gov/pmc/articles/PMC4651417/\">found<!-- --></a> to cause moderate irritation, especially in those with sensitive skin or skin conditions.<!-- --></p>\n",
            "==========================================================================================\n",
            "[<h2 class=\"css-1e3qj64 e1phjgwe103\">5. Polyethylene glycol</h2>]\n",
            "[]\n",
            "<p>Polyethylene glycol (PEGs) are included in many hair care products as a thickening agent; however they tend to strip the hair of its natural moisture. Users then need to add silicone to make the hair feel soft again. According to a <!-- --><a href=\"https://www.cir-safety.org/sites/default/files/PolLan092012Rep.pdf\">report<!-- --></a> by the International Journal of Toxicology by the Cosmetic Ingredient Review, carcinogenic (cancer-causing) ingredients were found in various PEG compounds, some of which have also been classified as a “developmental toxicant” (meaning they may interfere with human development).<!-- --></p>\n",
            "==========================================================================================\n",
            "[<h2 class=\"css-1e3qj64 e1phjgwe103\">6. Benzene</h2>]\n",
            "[]\n",
            "<p>Benzene is another immune-signaling disrupter commonly found in hair <!-- --><a href=\"https://nutrafol.com/blog/how-to-dye-your-hair-without-doing-damage/\">dyes<!-- --></a>. According to the American Cancer Society, benzene is known to <!-- --><a href=\"https://www.cancer.org/cancer/cancer-causes/benzene.html\">cause<!-- --></a> cancers, including leukemia. Studies have shown there’s a strong link between benzene, immune system toxicity, leukemia, and other cancers of the blood cells. Research also supports that an expectant mother’s exposure to benzene may cause developmental damage to the fetus. Despite these risks, benzene is still one of the 20 <!-- --><a href=\"https://www.cancer.org/cancer/cancer-causes/benzene.html\">most common<!-- --></a> chemicals in the US, which is why it’s so important to read the list of ingredients on every hair product bottle.<!-- --></p>\n",
            "==========================================================================================\n",
            "[<h2 class=\"css-1e3qj64 e1phjgwe103\">7. Phthalates</h2>]\n",
            "[]\n",
            "<p>Though this group of chemicals is often sneakily disguised as “fragrance,” phthalates are used in a number of hair products. They help reduce stiffness in products like hairsprays, allowing them to form a flexible film. But <!-- --><a href=\"https://www.ncbi.nlm.nih.gov/pmc/articles/PMC5615111/\">studies<!-- --></a> have found that phthalates interfere with our endocrine hormones, which is bad news for our hair. The hair growth cycle is sensitive to changes in our endocrine hormones like estrogen, progesterone, cortisol, testosterone, insulin, and thyroid hormones.<!-- --></p>\n",
            "==========================================================================================\n",
            "[<h2 class=\"css-1e3qj64 e1phjgwe103\">8. Parabens</h2>]\n",
            "[]\n",
            "<p>Similar to phthalates, parabens are also <!-- --><a href=\"https://www.ncbi.nlm.nih.gov/pubmed/29596967\">endocrine disruptors<!-- --></a>. Used to prolong the shelf-life of hair products, they can appear on ingredients lists as methylparaben, ethylparaben, propylparaben, butylparaben, isobutylparaben, etc. Parabens are easily absorbed by the human body when applied to the skin or scalp, which puts your endocrine system — and the health of your hair — at immediate risk.<!-- --></p>\n",
            "==========================================================================================\n",
            "[]\n",
            "[<h2 class=\"css-1e3qj64 e1phjgwe103\">9. Formaldehyde</h2>]\n",
            "[]\n",
            "<p>Formaldehyde is a known human <!-- --><a href=\"http://www.safecosmetics.org/get-the-facts/chemicals-of-concern/formaldehyde/\">carcinogen<!-- --></a> and, like parabens, it’s been proven to be absorbed through the skin in animal testing. Manufacturers often add it to hair products, such as shampoo, or Brazilian/keratin blowout treatments to work as a preservative.<!-- --></p>\n",
            "==========================================================================================\n",
            "[<h2 class=\"css-1e3qj64 e1phjgwe103\">10. Synthetic colors and dyes</h2>]\n",
            "[]\n",
            "<p>Many hair dyes and other hair products use an abundance of synthetic colors and dyes. These toxins and chemicals can harm the hair cuticle, leaving it susceptible to oxidative damage. Many artificial colors and dyes are also made of <!-- --><a href=\"https://www.fda.gov/cosmetics/cosmetic-products/hair-dyes\">coal tar<!-- --></a>, which may contain heavy metal salts like arsenic and lead that can deposit toxicity onto the scalp.<!-- --></p>\n",
            "==========================================================================================\n",
            "[<h2 class=\"css-1e3qj64 e1phjgwe103\">11. Sodium hydroxide</h2>]\n",
            "[]\n",
            "<p>Sodium hydroxide (NaOH) is used in hair products — especially ones that serve as straightening treatments — to adjust pH, or the acidity. But NaOH can actually damage your hair when used at high concentrations and at high pH.<!-- --></p>\n",
            "==========================================================================================\n",
            "[<h2 class=\"css-1e3qj64 e1phjgwe103\">12. Alcohol</h2>]\n",
            "[]\n",
            "<p>Alcohol is added to hair products to help hair retain moisture; however, many alcohols have a drying effect that can damage delicate strands — and the higher up that “alcohol” appears in the ingredient list, the more of it the product contains. Tip: The alcohols that wreak havoc on dry hair usually have a “prop” in their name, like Isopropyl alcohol or propanol.<!-- --></p>\n",
            "==========================================================================================\n",
            "[<h2 class=\"css-1e3qj64 e1phjgwe103\">13. Cocamidopropyl betaine</h2>]\n",
            "[]\n",
            "<p><a href=\"https://www.the-dermatologist.com/content/review-acds%E2%80%99-allergen-od-year-2000-2015\">Cocamidopropyl betaine<!-- --></a> is a popular cleansing agent and foam booster. Although it’s derived from coconut oil, it can cause skin irritation. Anyone with rosacea, eczema, or skin allergies should steer clear of hair products containing cocamidopropyl betaine.<!-- --></p>\n",
            "==========================================================================================\n",
            "[<h2 class=\"css-1e3qj64 e1phjgwe103\">14. Diethanolamine</h2>]\n",
            "[]\n",
            "<p>Diethanolamine (DEA) is also a foam agent that reduces surface tension so water-soluble and oil-soluble ingredients can blend together. About 20 years ago, researchers found a <!-- --><a href=\"https://www.fda.gov/cosmetics/cosmetic-ingredients/diethanolamine\">link<!-- --></a> between the topical application of DEA and cancer in animals (however, the effects on humans are unclear). Although DEA can still be used in American hair care products, European Commission actually banned DEA in cosmetics.<!-- --></p>\n",
            "==========================================================================================\n",
            "[<h2 class=\"css-1e3qj64 e1phjgwe103\">15. Triclosan</h2>]\n",
            "[]\n",
            "<p>Triclosan is added to many haircare products to prevent bacterial contamination, but it’s a skin irritant and suspected carcinogen. Even in the United States, the antibacterial agent <!-- --><a href=\"https://www.fda.gov/consumers/consumer-updates/5-things-know-about-triclosan\">triclosan<!-- --></a> is banned from being used in antibacterial soaps; however, it is still allowed in shampoos. This ingredient is known to cause hormone disruptions, which can lead to cancer and affect fetal development.<!-- --></p>\n",
            "==========================================================================================\n",
            "[<h2 class=\"css-1e3qj64 e1phjgwe103\">16. Dimethicone</h2>]\n",
            "[]\n",
            "<p>Dimethicone is a type of silicone that is used in an array of hair products. Since dimethicone acts as a protecting cover on the surface of the hair, it contributes to product buildup and can actually prevent moisture and nutrients from coming in. Instead, it collects dirt and residue, clogs the pores on the scalp and causes skin irritation.<!-- --></p>\n",
            "==========================================================================================\n",
            "[<h2 class=\"css-1e3qj64 e1phjgwe103\">Natural is key</h2>]\n",
            "[]\n",
            "<p>With so many products and ingredients out there on the market, keeping it as simple as possible is your best bet to ensure you know exactly what’s going on your scalp. Try to only use hair products that are made with natural, non-toxic ingredients, such as shea butter, coconut oil, aloe vera, tea tree oil, apple cider vinegar, or argan oil. And to really make sure your hair is getting the nourishment it needs to fight off any chemicals or toxins it encounters, consider implementing an all-natural, plant-derived supplement, like <!-- --><a href=\"https://nutrafol.com/\">Nutrafol<!-- --></a>, into your hair care routine. Made with vitamins like <!-- --><a href=\"https://nutrafol.com/blog/biotin-side-effects/\">biotin<!-- --></a> along with ashwagandha, tocotrienols, curcumin, and saw palmetto, Nutrafol supports healthy hair growth — 100% drug-free.<!-- --></p>\n",
            "==========================================================================================\n",
            "[]\n",
            "[]\n"
          ]
        }
      ],
      "source": [
        "##### 16 harmful ingredient shampoo\n",
        "for ingre in all_ingre_content:\n",
        "  try:\n",
        "    print(ingre.findAll(\"h2\"))\n",
        "    print(ingre.findAll(\"div\",{\"class\":\"paragraph-text css-g6g1w6 e1phjgwe102\"})[0].p)\n",
        "    print(\"===\"*30)\n",
        "  except:\n",
        "    pass"
      ]
    },
    {
      "cell_type": "code",
      "execution_count": null,
      "metadata": {
        "id": "eo81ILKVun8N"
      },
      "outputs": [],
      "source": [
        "import pandas as pd"
      ]
    },
    {
      "cell_type": "code",
      "execution_count": null,
      "metadata": {
        "id": "TQYyQx7Byq80"
      },
      "outputs": [],
      "source": [
        "df=pd.read_csv(\"chemicals-in-cosmetics-.csv\")"
      ]
    },
    {
      "cell_type": "code",
      "execution_count": null,
      "metadata": {
        "colab": {
          "base_uri": "https://localhost:8080/"
        },
        "id": "LRLoOr7RywHF",
        "outputId": "44fa40bf-32c9-43a7-bfa8-89a4fba8a48b"
      },
      "outputs": [
        {
          "data": {
            "text/plain": [
              "(13258, 23)"
            ]
          },
          "execution_count": 42,
          "metadata": {},
          "output_type": "execute_result"
        }
      ],
      "source": [
        "df.shape"
      ]
    },
    {
      "cell_type": "code",
      "execution_count": null,
      "metadata": {
        "id": "zAnBHYYPyxL0"
      },
      "outputs": [],
      "source": [
        "df.iloc[1]"
      ]
    },
    {
      "cell_type": "code",
      "execution_count": null,
      "metadata": {
        "id": "TfziAejgyz0R"
      },
      "outputs": [],
      "source": [
        "hair_chemical_name=[\n",
        "    \"Propylene Glycol\",\n",
        "    \"Sodium Borate\",\n",
        "    \"Lanolin\",\n",
        "    \"Sodium Hydroxide\",\n",
        "    \"Benzalkonium Chloride\",\n",
        "    \"Triethanolamine (TEA)\",\n",
        "    \"Diethanolamine (DEA)\",\n",
        "    \"Butylated Hydroxyanisole (BHA)\",\n",
        "    \"Cocamidopropylamine Oxide\",\n",
        "    \"Diazolidinyl Urea\",\n",
        "    \"Quaternium-15\",\n",
        "    \"Formaldehyde\",\n",
        "    \"Sodium Polyacrylate\",\n",
        "    \"Methylisothiazolinone\",\n",
        "    \"Acetone\",\n",
        "    \"Hydrogen Peroxide\",\n",
        "    \"P-Phenylenediamine (PPDA)\",\n",
        "    \"Sodium Hydroxymethylglycinate\",\n",
        "    \"Tetrasodium EDTA\",\n",
        "    \"Tetrasodium EDTA\",\n",
        "    \"Triphenyl Phosphate\",\n",
        "    \"Triethylene Glycol\",\n",
        "    \"Sodium Metabisulfite\",\n",
        "    \"DEA-Cetyl Phosphate\",\n",
        "    \"Sodium Bisulfite\",\n",
        "    \"Phenylenediamine (PPD)\",\n",
        "    \"Polyvinyl Alcohol\",\n",
        "    \"Sodium Lauroyl Sarcosinate\",\n",
        "    \"Toluene\",\n",
        "    \"Sodium Lauryl Sulfate\",\n",
        "    \"Ammonium Lauryl Sulfate\",\n",
        "    \"Sodium Laureth Sulfate\",\n",
        "    \"Diethanolamine\",\n",
        "    \"Triethanolamine\",\n",
        "    \"Cocamidopropyl Betaine\",\n",
        "    \"Silicons\",\n",
        "    \"Polyethylene Glycol\",\n",
        "    \"Sodium Chloride\",\n",
        "    \"Parabens\",\n",
        "    \"Formaldehyde\",\n",
        "    \"Methylchloroisothiazolinone\",\n",
        "    \"Triclosan\",\n",
        "    \"Potassium Sorbate\",\n",
        "    \"Polysorbate 20\",\n",
        "    \"Phthalates\",\n",
        "    \"Fragrance\",\n",
        "    \"Alcohol\",\n",
        "    \"ethanol\",\n",
        "   \"ethyl alcohol\",\n",
        "    \"denatured alcohol\",\n",
        "    \"methanol\",\n",
        "    \"isopropyl alcohol\",\n",
        "    \"SD alcohol\",\n",
        "    \"benzyl\",\n",
        "    \"Synthetic Colours\",\n",
        "    \"1, 4 Dioxane\",\n",
        "    \"Coal Tar\",\n",
        "    \"Lead Acetate\",\n",
        "    \"Mineral Oil\",\n",
        "    \"Chlorine\",\n",
        "    \"5-Bromo-5-nitro-1\",\n",
        "    \"3-dioxane\",\n",
        "    \"DMDM hydantoin\",\n",
        "    \"Imidazolidinyl urea\",\n",
        "    \"Methylene glycol\",\n",
        "    \"Oxo methane\",\n",
        "     \"Quaternium-15\",\n",
        "     \"Denat\",\n",
        "     \"Selenium Sulphide\",\n",
        "     \"Dimethicone\",\n",
        "     \"Retinyl Palmitate\",\n",
        "     \"Propyl\",\n",
        "     \"Methyl\",\n",
        "     \"Butyl\"\n",
        "]"
      ]
    },
    {
      "cell_type": "code",
      "execution_count": null,
      "metadata": {
        "id": "GvunDlreUQGT"
      },
      "outputs": [],
      "source": [
        "top_10_hair=[\"Formaldehyde\",\n",
        "\"Sodium Lauryl Sulfate (SLS)\",\n",
        "\"Sodium Laureth Sulfate (SLES)\",\n",
        "\"Parabens\",\n",
        "\"Phthalates\",\n",
        "\"Fragrance\",\n",
        "\"Phenylenediamine (PPD)\",\n",
        "\"DMDM hydantoin\",\n",
        "\"imidazolidinyl urea\"]"
      ]
    },
    {
      "cell_type": "code",
      "execution_count": null,
      "metadata": {
        "id": "6ooif9DDp1ag"
      },
      "outputs": [],
      "source": [
        " \"Propylene Glycol\",\n",
        "    \"Sodium Borate\",\n",
        "    \"Lanolin\",\n",
        "    \"Sodium Hydroxide\",\n",
        "    \"Benzalkonium Chloride\",\n",
        "    \"Triethanolamine (TEA)\",\n",
        "    \"Diethanolamine (DEA)\",\n",
        "    \"Butylated Hydroxyanisole (BHA)\",\n",
        "    \"Cocamidopropylamine Oxide\",\n",
        "    \"Diazolidinyl Urea\",\n",
        "    \"Quaternium-15\","
      ]
    },
    {
      "cell_type": "code",
      "execution_count": null,
      "metadata": {
        "id": "djDRz54wz-3U"
      },
      "outputs": [],
      "source": [
        "hair_chemical_exp=[\n",
        "    \"\"\"\n",
        "    propylene glycol can cause scalp dryness, irritation, and potential allergic reactions in some individuals.\n",
        "    \"\"\",\n",
        "    \"\"\"\n",
        "    sodium borate can be drying to the hair and scalp, causing dryness, frizz, and potential irritation.\n",
        "    \"\"\",\n",
        "\n",
        "    \"\"\"\n",
        "    Derived from sheep's wool, lanolin can be heavy and occlusive, potentially leading to scalp irritation, clogged follicles, and greasiness in some individuals.\n",
        "    \"\"\",\n",
        "\n",
        "    \"\"\"\n",
        "    sodium hydroxide is a strong alkaline ingredient that can cause scalp burns, dryness, and hair breakage if not used properly.\n",
        "    \"\"\",\n",
        "\n",
        "    \"\"\"\n",
        "    Benzalkonium Chloride ingredient can cause scalp irritation and may disrupt the natural balance of the scalp\n",
        "    \"\"\",\n",
        "    \"\"\"\n",
        "    TEA is used to adjust the pH of hair care products, but it can be drying and potentially irritating to the scalp\n",
        "    \"\"\",\n",
        "    \"\"\"\n",
        "    DEA can cause scalp irritation and dryness, particularly when used in high concentrations.\n",
        "    \"\"\",\n",
        "    \"\"\"\n",
        "    Frequently used as a preservative, BHA has been associated with scalp irritation, dryness, and potential allergic reactions.\n",
        "    \"\"\",\n",
        "    \"\"\"\n",
        "    Cocamidopropylamine Oxide Although a common foaming agent, it can sometimes lead to scalp irritation, itching, and allergic reactions in sensitive individuals.\n",
        "    \"\"\",\n",
        "    \"\"\"\n",
        "     These ingredients release small amounts of formaldehyde over time, which can cause scalp irritation, dryness, and allergic reactions\n",
        "    \"\"\",\n",
        "    \"\"\"\n",
        "     These ingredients release small amounts of formaldehyde over time, which can cause scalp irritation, dryness, and allergic reactions\n",
        "    \"\"\",\n",
        "    \"\"\"\n",
        "    Known to be a potent allergen and irritant, it can cause scalp irritation, dryness, and allergic reactions\n",
        "    \"\"\",\n",
        "\n",
        "    \"\"\"\n",
        "    Sodium polyacrylate is a polymer used in some hair care products as a thickening agent. It can cause scalp irritation, dryness, and may contribute to hair breakage and damage.\n",
        "    \"\"\",\n",
        "    \"\"\"\n",
        "    methylisothiazolinone (MI), are used to extend the shelf life of hair care products. They can cause scalp irritation, allergic reactions, and may be sensitizing to the skin.\n",
        "    \"\"\",\n",
        "\n",
        "    \"\"\"\n",
        "    Acetone is a strong solvent commonly found in nail polish removers. However, it can be found in some hair care products as well. Acetone can cause dryness, scalp irritation, and may strip the hair of its natural oils\n",
        "    \"\"\",\n",
        "    \"\"\"\n",
        "    Hydrogen peroxide is often used in hair bleaching and coloring products to lighten the hair. It can be damaging to the hair cuticle, leading to dryness, brittleness, and breakage if used improperly or excessively.\n",
        "    \"\"\",\n",
        "    \"\"\"\n",
        "    PPDA is a chemical compound commonly found in hair dyes. It is known to cause allergic reactions, skin irritation, and may have harmful effects on the scalp and hair follicles.\n",
        "    \"\"\",\n",
        "    \"\"\"\n",
        "    Sodium hydroxymethylglycinate is a preservative used in hair care products. It can cause scalp irritation, dryness, and may be sensitizing to the skin.\n",
        "    \"\"\",\n",
        "    \"\"\"\n",
        "    Tetrasodium EDTA is a chelating agent used in hair care products to improve their stability and effectiveness. However, it can cause scalp irritation, dryness, and may be potentially harmful if absorbed in large quantities.\n",
        "    \"\"\",\n",
        "    \"\"\"\n",
        "    Triphenyl phosphate is a flame retardant chemical often used in hair care products, particularly in nail polishes. It has been associated with hormone disruption and may have adverse effects on hair health.\n",
        "    \"\"\",\n",
        "    \"\"\"\n",
        "    Triphenyl phosphate is a flame retardant chemical often used in hair care products, particularly in nail polishes. It has been associated with hormone disruption and may have adverse effects on hair health.\n",
        "    \"\"\",\n",
        "    \"\"\"\n",
        "    Triethylene glycol is a solvent and conditioning agent found in some hair care products. It can contribute to scalp irritation, dryness, and may be toxic if ingested or absorbed in large quantities.\n",
        "    \"\"\",\n",
        "    \"\"\"\n",
        "    Sodium metabisulfite is used as a preservative and antioxidant in hair care products. It can cause scalp irritation, dryness, and allergic reactions, especially in individuals with sensitive skin\n",
        "    \"\"\",\n",
        "\n",
        "    \"\"\"\n",
        "    DEA-Cetyl Phosphate is a surfactant and emulsifying agent used in some hair care products. It can cause scalp irritation, dryness, and contribute to hair damage and breakage.\n",
        "    \"\"\"\n",
        "    ,\n",
        "    \"\"\"\n",
        "    Sodium bisulfite is often used as a preservative and hair relaxer in some products. It can cause scalp irritation, dryness, and allergic reactions, especially in individuals with sensitive skin.\n",
        "    \"\"\"\n",
        "    ,\n",
        "    \"\"\"\n",
        "   Phenylenediamine (PPD) PPD is a common ingredient in hair dyes, especially darker shades. It can cause scalp irritation, allergic reactions, and in some cases, severe chemical burns if used improperly.\n",
        "\n",
        "    \"\"\"\n",
        "    ,\n",
        "    \"\"\"\n",
        "    Polyvinyl alcohol is a film-forming ingredient found in hair styling products. It can create a coating on the hair that leads to dryness, stiffness, and lack of natural movement.\n",
        "\n",
        "    \"\"\",\n",
        "\n",
        "\n",
        "    \"\"\"\n",
        "    This surfactant is often used as an alternative to sulfates in hair care products. However, it can still cause scalp irritation, dryness, and strip the hair of natural oils.\n",
        "    \"\"\"\n",
        "    ,\n",
        "    \"\"\"\n",
        "    Toluene is a solvent commonly found in hair dyes and nail polishes. Prolonged exposure to toluene can cause scalp irritation, dryness, and may be toxic to the nervous system.\n",
        "    \"\"\",\n",
        "\n",
        "    \"\"\"\n",
        "     Sodium Lauryl Sulfate are surfactants or detergents very commonly found in shampoos. They are categorised under anionic detergents and are expert cleaning agents. From floor cleaners, laundry detergents, dish washers to your shampoo, SLS and SLES are used to remove dirt and grease from surfaces.\n",
        "\n",
        "    These types of detergents not just remove excess sebum and sweat, but completely strip your hair of moisture and natural oils that keep hair hydrated. The result is dry, brittle, frizzy hair that tangles and breaks easily.\n",
        "    \"\"\",\n",
        "    \"\"\"\n",
        "    Ammonium Lauryl Sulfate Sulfates are a very common ingredient in shampoos. When you rinse out the shampoo, the surfactants take all the sebum with them. These cleaning agents are so harsh, they can damage the hair, make it brittle and increase frizz. They can also cause allergic reactions in people with sensitive skin.\n",
        "    \"\"\"\n",
        "    ,\n",
        "    \"\"\"\n",
        "     Sodium Laureth Sulfate are surfactants or detergents very commonly found in shampoos. They are categorised under anionic detergents and are expert cleaning agents. From floor cleaners, laundry detergents, dish washers to your shampoo, SLS and SLES are used to remove dirt and grease from surfaces.\n",
        "\n",
        "    These types of detergents not just remove excess sebum and sweat, but completely strip your hair of moisture and natural oils that keep hair hydrated. The result is dry, brittle, frizzy hair that tangles and breaks easily.\n",
        "    \"\"\"\n",
        "    ,\n",
        "    \"\"\"\n",
        "    Diethanolamine are two harmful foaming agents or emulsifiers used in shampoos to create the rich lather that most people love. TEA also helps maintain the pH balance of the shampoo.\n",
        "    \"\"\"\n",
        "    ,\n",
        "    \"\"\"\n",
        "    Triethanolamine are two harmful foaming agents or emulsifiers used in shampoos to create the rich lather that most people love. TEA also helps maintain the pH balance of the shampoo.\n",
        "    \"\"\"\n",
        "    ,\n",
        "\n",
        "    \"\"\"\n",
        "    Cocamidopropyl Betaine is often used as a surfactant in shampoos and conditioners. Though it is mild compared to SLS, many consumers have reported allergic reactions to products containing CAPB. CAPB can cause skin irritations and allergies if used for longer periods.\n",
        "    \"\"\"\n",
        "    ,\n",
        "\n",
        "    \"\"\"\n",
        "    Silicons The main function of Silicon is to form a shiny layer on your hair shaft to make hair appear smooth and lustrous. Silicon being an emollient, locks moisture into your hair shaft and keeps hair hydrated temporarily. However, continued use may create a permanent build-up of silicons on your hair.\n",
        "\n",
        "    This will prevent nutrition and moisture from penetrating the cuticle, causing dryness and damage. If you are unsure of what to search in the ingredient list of your shampoo, try looking for dimethicone or simethicone.\n",
        "\n",
        "    \"\"\"\n",
        "    ,\n",
        "    \"\"\"\n",
        "    Polyethylene Glycol is used in shampoos and conditioners as a thickening agent. It can also act as a surfactant or emulsifier. Since we like our shampoos thick and creamy, PEGs are added to increase the shampoo’s viscosity. However, PEGs are carcinogenic in nature and can cause skin toxicity if applied on cuts or broken skin\n",
        "    \"\"\",\n",
        "\n",
        "    \"\"\"\n",
        "    Sodium Chloride Salt is another common thickening agent used in most shampoos. Chemically termed as Sodium Chloride , salt is a known skin irritant and is quite damaging to the cuticle layer of your hair shaft.\n",
        "    \"\"\"\n",
        "    ,\n",
        "    \"\"\"\n",
        "    Parabens These preservatives are used in shampoos and conditions to increase the products shelf life. Being antimicrobial in nature, Parabens keep your hair-care products free of bacterial or fungal growth. However, these can easily penetrate the skin and imitate the effects of estrogen. This increases the risk of developing breast cancer.\n",
        "    \"\"\"\n",
        "    ,\n",
        "    \"\"\"\n",
        "   Formaldehyde Often labelled as quaternium-15 in your shampoo bottle, it releases Formaldehyde, a well-known human carcinogen. Formaldehyde is rarely used directly, but most shampoos add Formaldehyde releasers to preserve your shampoo for a longer period.\n",
        "    \"\"\"\n",
        "    ,\n",
        "    \"\"\"\n",
        "    Methylchloroisothiazolinone is another scary preservative added in shampoos. It can cause lung toxicity and other body toxicities. It is widely used in several cosmetics to prevent the product from getting spoilt after you’ve opened the bottle.\n",
        "    \"\"\"\n",
        "    ,\n",
        "    \"\"\"\n",
        "    Triclosan to various health problems including skin allergies, disruption of thyroid metabolism, weakening of the body’s immune system and cancer. Triclosan is commonly found in shampoos and toothpastes as an anti-fungal and anti-bacterial agent. Exposure to Triclosan can cause eczema and asthma in children.\n",
        "    \"\"\"\n",
        "    ,\n",
        "    \"\"\"\n",
        "    Potassium Sorbate This is often used as a substitute for the more harmful preservative Paraben. Though comparatively mild in nature, Potassium Sorbate can cause skin and scalp irritation with prolonged use.\n",
        "    \"\"\"\n",
        "    ,\n",
        "    \"\"\"\n",
        "     Polysorbate 20 are used for adding fragrance to shampoos, conditioners and other cosmetic products. They also behave as emulsifiers and surfactants. Commonly known health hazards from Polysorbate 20 exposure are allergies and skin cancers.\n",
        "    \"\"\"\n",
        "    ,\n",
        "    \"\"\"\n",
        "    Phthalates are used in a variety of hair care and hair styling products. These chemical substances make added fragrances last longer. They also act as lubricators in conditioners and gels and help the substance spread easily on your hair.\n",
        "    \"\"\"\n",
        "    ,\n",
        "\n",
        "    \"\"\"\n",
        "    Fragrances are frequently used in shampoos, serums and conditioners to give them a sense of indulgence and mask the formulation’s real, possibly unpleasant smell. The fragrances are often used as a marketing weapon too. More often than not, these fragrances are artificial, despite smelling like the freshest flower right under your nose. These chemicals can include a wide range of life-threatening hazardous ingredients like styrene, resorcinol, dioxane and acetaldehyde.\n",
        "    \"\"\"\n",
        "    ,\n",
        "\n",
        "    \"\"\"\n",
        "    Alcohol is often added to hair products to protect the products from microbes, aiding the preservation process and keeping them fresh for a longer period of time. It is also used to thicken the texture and consistency of shampoos and conditioners. However, this solvent draws moisture from the scalp, leaving your hair weak and brittle. The label “alcohol” is often disguised behind expressions like \"methanol\" and \"isopropyl\".\n",
        "    The alcohols you should avoid in shampoos include ethanol or ethyl alcohol, denatured alcohol, methanol, isopropyl alcohol, SD alcohol, and benzyl\n",
        "    \"\"\"\n",
        "    ,\n",
        "    \"\"\"\n",
        "    Alcohol is often added to hair products to protect the products from microbes, aiding the preservation process and keeping them fresh for a longer period of time. It is also used to thicken the texture and consistency of shampoos and conditioners. However, this solvent draws moisture from the scalp, leaving your hair weak and brittle. The label “alcohol” is often disguised behind expressions like \"methanol\" and \"isopropyl\".\n",
        "    The alcohols you should avoid in shampoos include ethanol or ethyl alcohol, denatured alcohol, methanol, isopropyl alcohol, SD alcohol, and benzyl\n",
        "    \"\"\"\n",
        "    ,\n",
        "    \"\"\"\n",
        "    Alcohol is often added to hair products to protect the products from microbes, aiding the preservation process and keeping them fresh for a longer period of time. It is also used to thicken the texture and consistency of shampoos and conditioners. However, this solvent draws moisture from the scalp, leaving your hair weak and brittle. The label “alcohol” is often disguised behind expressions like \"methanol\" and \"isopropyl\".\n",
        "    The alcohols you should avoid in shampoos include ethanol or ethyl alcohol, denatured alcohol, methanol, isopropyl alcohol, SD alcohol, and benzyl\n",
        "    \"\"\"\n",
        "    ,\n",
        "    \"\"\"\n",
        "    Alcohol is often added to hair products to protect the products from microbes, aiding the preservation process and keeping them fresh for a longer period of time. It is also used to thicken the texture and consistency of shampoos and conditioners. However, this solvent draws moisture from the scalp, leaving your hair weak and brittle. The label “alcohol” is often disguised behind expressions like \"methanol\" and \"isopropyl\".\n",
        "    The alcohols you should avoid in shampoos include ethanol or ethyl alcohol, denatured alcohol, methanol, isopropyl alcohol, SD alcohol, and benzyl\n",
        "    \"\"\"\n",
        "    ,\n",
        "    \"\"\"\n",
        "    Alcohol is often added to hair products to protect the products from microbes, aiding the preservation process and keeping them fresh for a longer period of time. It is also used to thicken the texture and consistency of shampoos and conditioners. However, this solvent draws moisture from the scalp, leaving your hair weak and brittle. The label “alcohol” is often disguised behind expressions like \"methanol\" and \"isopropyl\".\n",
        "    The alcohols you should avoid in shampoos include ethanol or ethyl alcohol, denatured alcohol, methanol, isopropyl alcohol, SD alcohol, and benzyl\n",
        "    \"\"\"\n",
        "    ,\n",
        "    \"\"\"\n",
        "    Alcohol is often added to hair products to protect the products from microbes, aiding the preservation process and keeping them fresh for a longer period of time. It is also used to thicken the texture and consistency of shampoos and conditioners. However, this solvent draws moisture from the scalp, leaving your hair weak and brittle. The label “alcohol” is often disguised behind expressions like \"methanol\" and \"isopropyl\".\n",
        "    The alcohols you should avoid in shampoos include ethanol or ethyl alcohol, denatured alcohol, methanol, isopropyl alcohol, SD alcohol, and benzyl\n",
        "    \"\"\"\n",
        "    ,\n",
        "    \"\"\"\n",
        "    Alcohol is often added to hair products to protect the products from microbes, aiding the preservation process and keeping them fresh for a longer period of time. It is also used to thicken the texture and consistency of shampoos and conditioners. However, this solvent draws moisture from the scalp, leaving your hair weak and brittle. The label “alcohol” is often disguised behind expressions like \"methanol\" and \"isopropyl\".\n",
        "    The alcohols you should avoid in shampoos include ethanol or ethyl alcohol, denatured alcohol, methanol, isopropyl alcohol, SD alcohol, and benzyl\n",
        "    \"\"\"\n",
        "    ,\n",
        "    \"\"\"\n",
        "    Alcohol is often added to hair products to protect the products from microbes, aiding the preservation process and keeping them fresh for a longer period of time. It is also used to thicken the texture and consistency of shampoos and conditioners. However, this solvent draws moisture from the scalp, leaving your hair weak and brittle. The label “alcohol” is often disguised behind expressions like \"methanol\" and \"isopropyl\".\n",
        "    The alcohols you should avoid in shampoos include ethanol or ethyl alcohol, denatured alcohol, methanol, isopropyl alcohol, SD alcohol, and benzyl\n",
        "    \"\"\"\n",
        "    ,\n",
        "\n",
        "    \"\"\"\n",
        "    synthetic colours The foremost use of synthetic colours in hair products is to make it visually more appealing and attractive. But you will be amazed to know that these chemicals, used in hair dye are derived from petroleum or coal sources. These are categorized as FD&C or D&C, followed by a colour and a number. There are an ongoing debate and fear that some synthetic colours can be carcinogenic and cause skin irritation and ADHD in children.\n",
        "\n",
        "    \"\"\"\n",
        "    ,\n",
        "\n",
        "    \"\"\"\n",
        "    1, 4 Dioxane might not be an active ingredient in hair products but can be formed as a by-product during the manufacturing process. Compounds like Sodium Lauryl Sulfate (SLS) and Sodium Laureth Sulfate (SLES) produces 1, 4 Dioxane, a potential human carcinogen. 1, 4 Dioxane acts as a foaming agent in hair products but is also associated with hormonal imbalances and fertility problems.\n",
        "    \"\"\"\n",
        "    ,\n",
        "\n",
        "    \"\"\"\n",
        "    For centuries, coal tar has been used in skin and hair treatments. In a surprising turn of events, recently it has been recognized as a carcinogen and has been banned in the EU. Anti-dandruff shampoos without harmful chemicals often include little proportions of coal tar as it is considered as an organic substance. But in reality, it can stain your hair, making it sensitive to sunlight.\n",
        "    \"\"\"\n",
        "    ,\n",
        "    \"\"\"\n",
        "    Lead Acetate, a potent neurotoxin is associated with several other health and reproductive complications. It is used as a colour preservative in \"progressive\" hair dye products as it provides a subtler colour transition. Moreover, it is often not listed in the packaging as it contaminant rather than an ingredient.\n",
        "    \"\"\"\n",
        "    ,\n",
        "    \"\"\"\n",
        "    Mineral oil is derived as a petroleum by-product that coats your scalp and hair in such an effective way that it also suffocates them. It promotes premature ageing of hair by clogging the hair follicles and slows down the skin's ability to eliminate toxins. Overusing hair products that contain mineral oil might result in imbalanced oil levels in your scalp causing acne.\n",
        "    \"\"\"\n",
        "    ,\n",
        "    \"\"\"\n",
        "   Chlorine The necessity of using chemical-free shampoo for dry hair lies in the fact that chemicals like chlorine are severely damaging to dry hair and it might take years to repair that damage. Though you might not observe chlorine as an ingredient in hair care products it can be present in the water with which you wash your hair\n",
        "    \"\"\",\n",
        "\n",
        "    \"\"\"\n",
        "    Formaldehyde is a chemical preservative that kills bacteria but is also carcinogenic if you often come into contact with it. In some countries  legislation strictly restricts its use and explicitly bans hair straightening products from containing formaldehyde, but you can still find it in some products.\n",
        "\n",
        "    Formaldehydes have been shown to lead to skin irritations and allergic reactions. They can penetrate deeply into the skin and are known human carcinogens associated with an increased risk of certain cancers.\n",
        "    \"\"\"\n",
        "    ,\n",
        "    \"\"\"\n",
        "    Formaldehyde is a chemical preservative that kills bacteria but is also carcinogenic if you often come into contact with it. In some countries  legislation strictly restricts its use and explicitly bans hair straightening products from containing formaldehyde, but you can still find it in some products.\n",
        "\n",
        "    Formaldehydes have been shown to lead to skin irritations and allergic reactions. They can penetrate deeply into the skin and are known human carcinogens associated with an increased risk of certain cancers.\n",
        "    \"\"\"\n",
        "    ,\n",
        "    \"\"\"\n",
        "    Formaldehyde is a chemical preservative that kills bacteria but is also carcinogenic if you often come into contact with it. In some countries  legislation strictly restricts its use and explicitly bans hair straightening products from containing formaldehyde, but you can still find it in some products.\n",
        "\n",
        "    Formaldehydes have been shown to lead to skin irritations and allergic reactions. They can penetrate deeply into the skin and are known human carcinogens associated with an increased risk of certain cancers.\n",
        "    \"\"\"\n",
        "    ,\n",
        "    \"\"\"\n",
        "    Formaldehyde is a chemical preservative that kills bacteria but is also carcinogenic if you often come into contact with it. In some countries  legislation strictly restricts its use and explicitly bans hair straightening products from containing formaldehyde, but you can still find it in some products.\n",
        "\n",
        "    Formaldehydes have been shown to lead to skin irritations and allergic reactions. They can penetrate deeply into the skin and are known human carcinogens associated with an increased risk of certain cancers.\n",
        "    \"\"\"\n",
        "    ,\n",
        "    \"\"\"\n",
        "    Formaldehyde is a chemical preservative that kills bacteria but is also carcinogenic if you often come into contact with it. In some countries  legislation strictly restricts its use and explicitly bans hair straightening products from containing formaldehyde, but you can still find it in some products.\n",
        "\n",
        "    Formaldehydes have been shown to lead to skin irritations and allergic reactions. They can penetrate deeply into the skin and are known human carcinogens associated with an increased risk of certain cancers.\n",
        "    \"\"\"\n",
        "    ,\n",
        "    \"\"\"\n",
        "    Formaldehyde is a chemical preservative that kills bacteria but is also carcinogenic if you often come into contact with it. In some countries  legislation strictly restricts its use and explicitly bans hair straightening products from containing formaldehyde, but you can still find it in some products.\n",
        "\n",
        "    Formaldehydes have been shown to lead to skin irritations and allergic reactions. They can penetrate deeply into the skin and are known human carcinogens associated with an increased risk of certain cancers.\n",
        "    \"\"\"\n",
        "    ,\n",
        "    \"\"\"\n",
        "    Formaldehyde is a chemical preservative that kills bacteria but is also carcinogenic if you often come into contact with it. In some countries  legislation strictly restricts its use and explicitly bans hair straightening products from containing formaldehyde, but you can still find it in some products.\n",
        "\n",
        "    Formaldehydes have been shown to lead to skin irritations and allergic reactions. They can penetrate deeply into the skin and are known human carcinogens associated with an increased risk of certain cancers.\n",
        "    \"\"\",\n",
        "    \"\"\"\n",
        "    Denat these are a category of cosmetic ingredients that can have extremely drying effects on the scalp if applied too frequently in higher concentrations. Hence, it's better to avoid any kind of hair products that have alcohol listed as one of the first ingredients. While these alcohols are safe for use in cosmetics, avoiding drying ingredients will only help your hair and scalp stay healthy and hydrated in the long run.\n",
        "    \"\"\"\n",
        "    ,\n",
        "\n",
        "    \"\"\"\n",
        "    Selenium Sulphide This is a proven carcinogen (a cancer-causing compound). This is one of the most harmful ingredients to avoid in shampoo and other hair care products as regular use of selenium sulphide can develop tumours. Usually, this ingredient will be found in anti-dandruff shampoos, so make sure you read the label before you buy such a product.\n",
        "    \"\"\"\n",
        "    ,\n",
        "    \"\"\"\n",
        "    Dimethicone is a form of silicone with two attached methyl groups that gives your hair a soft and smooth feel. However, this ingredient will only dry out your hair in the long run, cause build-up at your roots, and irritate or burn your scalp. The build-up on your scalp will block out moisture, stop the nutrient flow to your hair, and create an abundance of residue and dirt that can clog your pores.\n",
        "    \"\"\"\n",
        "    ,\n",
        "    \"\"\"\n",
        "    Retinyl palmitate is known to cause a list of skin issues, including peeling, scaling, itching, burning, and redness. This harmful ingredient has also been linked to cancer, reproductive problems, and toxicity.\n",
        "    \"\"\"\n",
        "    ,\n",
        "    \"\"\"\n",
        "     Parabens are used to prolong the shelf life of hair products by preventing mold and bacteria growth. But in high enough amounts, parabens can interfere with your hormones, most notably affecting your body’s estrogen levels.\n",
        "\n",
        "    Anyone who has taken birth control or other hormone-altering medication knows the serious effects hormonal changes can have on your body chemistry. Parabens are one of the chemicals that cause hair loss and irritation, and in severe cases, can even cause breast cancer.\n",
        "\n",
        "    Look for the words Propylparaben, Methylparaben, and Butylparaben next time you check your hair product chemicals.\n",
        "\n",
        "    \"\"\",\n",
        "\n",
        "    \"\"\"\n",
        "     Parabens are used to prolong the shelf life of hair products by preventing mold and bacteria growth. But in high enough amounts, parabens can interfere with your hormones, most notably affecting your body’s estrogen levels.\n",
        "\n",
        "    Anyone who has taken birth control or other hormone-altering medication knows the serious effects hormonal changes can have on your body chemistry. Parabens are one of the chemicals that cause hair loss and irritation, and in severe cases, can even cause breast cancer.\n",
        "\n",
        "    Look for the words Propylparaben, Methylparaben, and Butylparaben next time you check your hair product chemicals.\n",
        "\n",
        "    \"\"\",\n",
        "\n",
        "    \"\"\"\n",
        "     Parabens are used to prolong the shelf life of hair products by preventing mold and bacteria growth. But in high enough amounts, parabens can interfere with your hormones, most notably affecting your body’s estrogen levels.\n",
        "\n",
        "    Anyone who has taken birth control or other hormone-altering medication knows the serious effects hormonal changes can have on your body chemistry. Parabens are one of the chemicals that cause hair loss and irritation, and in severe cases, can even cause breast cancer.\n",
        "\n",
        "    Look for the words Propylparaben, Methylparaben, and Butylparaben next time you check your hair product chemicals.\n",
        "\n",
        "    \"\"\",\n",
        "\n",
        "\n",
        "]"
      ]
    },
    {
      "cell_type": "code",
      "execution_count": null,
      "metadata": {
        "id": "7jUs8z1bzyaM"
      },
      "outputs": [],
      "source": [
        "hair_chemical_side_effect_name=[\n",
        "    \"\"\"\n",
        "    Dries the hair shaft causing split ends and frizzy hair\n",
        "    Clogs hair follicles and triggers hair loss\n",
        "    Affects the immune system of your body\n",
        "    Irritates eyes and may cause respiratory problems\n",
        "    Toxic in nature\n",
        "    \"\"\"\n",
        "    ,\n",
        "    \"\"\"\n",
        "    Dries the hair shaft causing split ends and frizzy hair\n",
        "    Clogs hair follicles and triggers hair loss\n",
        "    Affects the immune system of your body\n",
        "    Irritates eyes and may cause respiratory problems\n",
        "    Toxic in nature\n",
        "    \"\"\"\n",
        "    ,\n",
        "\n",
        "\n",
        "    \"\"\"\n",
        "    Causes dryness in hair and scalp\n",
        "    Has toxicity\n",
        "    Can cause skin allergies\n",
        "    Can cause damage to organs with prolonged exposure\n",
        "    Carcinogenic in nature\n",
        "    \"\"\"\n",
        "    ,\n",
        "    \"\"\"\n",
        "    Causes dryness in hair and scalp\n",
        "    Has toxicity\n",
        "    Can cause skin allergies\n",
        "    Can cause damage to organs with prolonged exposure\n",
        "    Carcinogenic in nature\n",
        "    \"\"\"\n",
        "    ,\n",
        "\n",
        "    \"\"\"\n",
        "    May cause skin and eye irritation\n",
        "    Can cause skin allergies and eczema\n",
        "    \"\"\",\n",
        "\n",
        "    \"\"\"\n",
        "    Prevents moisture and nutrition from penetrating the hair shaft\n",
        "    Makes hair dry and brittle\n",
        "    \"\"\"\n",
        "    ,\n",
        "    \"\"\"\n",
        "    Strips hair of its natural oils\n",
        "    Weakens the immune system\n",
        "    Causes cancer\n",
        "    \"\"\"\n",
        "    ,\n",
        "\n",
        "    \"\"\"\n",
        "    Hair and skin irritant\n",
        "    Damages the cuticle of your hair\n",
        "    Blocks hair follicles\n",
        "    Some medications\n",
        "    \"\"\"\n",
        "    ,\n",
        "    \"\"\"\n",
        "    Hair and skin irritant\n",
        "    Damages the cuticle of your hair\n",
        "    Blocks hair follicles\n",
        "    Some medications\n",
        "    \"\"\"\n",
        "    ,\n",
        "\n",
        "    \"\"\"\n",
        "    Potential breast cancer-causing agent\n",
        "    Triggers skin allergies\n",
        "    Affects the immune system\n",
        "    Can cause hair loss\n",
        "    \"\"\"\n",
        "    ,\n",
        "\n",
        "\n",
        "    \"\"\"\n",
        "    Carcinogenic in nature\n",
        "    Causes skin allergies\n",
        "    Continued exposure may cause asthma\n",
        "    \"\"\"\n",
        "    ,\n",
        "\n",
        "    \"\"\"\n",
        "    Possibilities of scalp irritation\n",
        "    May cause skin allergies\n",
        "    Chances of neuro-toxicity\n",
        "    Possibilities of lung toxicity\n",
        "    \"\"\"\n",
        "    ,\n",
        "    \"\"\"\n",
        "    Causes skin allergies\n",
        "    Interferes with thyroid metabolism\n",
        "    May cause asthma, eczema in children\n",
        "    Carcinogenic in nature\n",
        "    May cause sexual dysfunctionality\n",
        "    \"\"\"\n",
        "    ,\n",
        "\n",
        "    \"\"\"\n",
        "    Irritates skin and eyes\n",
        "    Weakens the immune system\n",
        "    Toxic if inhaled in large amounts\n",
        "    \"\"\"\n",
        "    ,\n",
        "    \"\"\"\n",
        "    Causes skin allergies and irritation\n",
        "    Contains cancer-causing agents such as ethylene oxide\n",
        "    \"\"\"\n",
        "    ,\n",
        "\n",
        "    \"\"\"\n",
        "    Commonly causes skin allergies\n",
        "    Overuse may result in nausea, skin irritation, rashes\n",
        "    Interferes with sexual functionality\n",
        "    Can cause cancer\n",
        "    \"\"\"\n",
        "\n",
        "]"
      ]
    },
    {
      "cell_type": "code",
      "execution_count": null,
      "metadata": {
        "id": "NKj0f8QNVifk"
      },
      "outputs": [],
      "source": [
        "hair_data={\n",
        "    \"ingredients_name\":hair_chemical_name,\n",
        "    \"ingredients_details\":hair_chemical_exp,\n",
        "}"
      ]
    },
    {
      "cell_type": "code",
      "execution_count": null,
      "metadata": {
        "id": "TBIiqNAiVuVo"
      },
      "outputs": [],
      "source": [
        "import pandas as pd\n",
        "hair_df=pd.DataFrame(hair_data)"
      ]
    },
    {
      "cell_type": "code",
      "execution_count": null,
      "metadata": {
        "id": "1dsukz-MqMhp"
      },
      "outputs": [],
      "source": [
        "hair_df.to_csv(\"hair.csv\",index=False)"
      ]
    },
    {
      "cell_type": "code",
      "execution_count": null,
      "metadata": {
        "colab": {
          "base_uri": "https://localhost:8080/"
        },
        "id": "vy8oYdodV-3p",
        "outputId": "00418a3e-29b2-486f-8175-990d7424bb2c"
      },
      "outputs": [
        {
          "name": "stdout",
          "output_type": "stream",
          "text": [
            "\n",
            "    Sodium polyacrylate is a polymer used in some hair care products as a thickening agent. It can cause scalp irritation, dryness, and may contribute to hair breakage and damage.\n",
            "    \n"
          ]
        }
      ],
      "source": [
        "print(hair_df.iloc[0]['ingredients_details'])"
      ]
    },
    {
      "cell_type": "code",
      "execution_count": null,
      "metadata": {
        "colab": {
          "base_uri": "https://localhost:8080/",
          "height": 81
        },
        "id": "NM_3xo97qWNw",
        "outputId": "1a2e109a-721f-4f1d-f33d-2d30bdd1c3aa"
      },
      "outputs": [
        {
          "data": {
            "text/html": [
              "\n",
              "  <div id=\"df-095b564a-eb73-4252-8b00-39aae5b58673\">\n",
              "    <div class=\"colab-df-container\">\n",
              "      <div>\n",
              "<style scoped>\n",
              "    .dataframe tbody tr th:only-of-type {\n",
              "        vertical-align: middle;\n",
              "    }\n",
              "\n",
              "    .dataframe tbody tr th {\n",
              "        vertical-align: top;\n",
              "    }\n",
              "\n",
              "    .dataframe thead th {\n",
              "        text-align: right;\n",
              "    }\n",
              "</style>\n",
              "<table border=\"1\" class=\"dataframe\">\n",
              "  <thead>\n",
              "    <tr style=\"text-align: right;\">\n",
              "      <th></th>\n",
              "      <th>ingredients_name</th>\n",
              "      <th>ingredients_details</th>\n",
              "    </tr>\n",
              "  </thead>\n",
              "  <tbody>\n",
              "    <tr>\n",
              "      <th>0</th>\n",
              "      <td>Propylene Glycol</td>\n",
              "      <td>\\n    propylene glycol can cause scalp dryness...</td>\n",
              "    </tr>\n",
              "  </tbody>\n",
              "</table>\n",
              "</div>\n",
              "      <button class=\"colab-df-convert\" onclick=\"convertToInteractive('df-095b564a-eb73-4252-8b00-39aae5b58673')\"\n",
              "              title=\"Convert this dataframe to an interactive table.\"\n",
              "              style=\"display:none;\">\n",
              "        \n",
              "  <svg xmlns=\"http://www.w3.org/2000/svg\" height=\"24px\"viewBox=\"0 0 24 24\"\n",
              "       width=\"24px\">\n",
              "    <path d=\"M0 0h24v24H0V0z\" fill=\"none\"/>\n",
              "    <path d=\"M18.56 5.44l.94 2.06.94-2.06 2.06-.94-2.06-.94-.94-2.06-.94 2.06-2.06.94zm-11 1L8.5 8.5l.94-2.06 2.06-.94-2.06-.94L8.5 2.5l-.94 2.06-2.06.94zm10 10l.94 2.06.94-2.06 2.06-.94-2.06-.94-.94-2.06-.94 2.06-2.06.94z\"/><path d=\"M17.41 7.96l-1.37-1.37c-.4-.4-.92-.59-1.43-.59-.52 0-1.04.2-1.43.59L10.3 9.45l-7.72 7.72c-.78.78-.78 2.05 0 2.83L4 21.41c.39.39.9.59 1.41.59.51 0 1.02-.2 1.41-.59l7.78-7.78 2.81-2.81c.8-.78.8-2.07 0-2.86zM5.41 20L4 18.59l7.72-7.72 1.47 1.35L5.41 20z\"/>\n",
              "  </svg>\n",
              "      </button>\n",
              "      \n",
              "  <style>\n",
              "    .colab-df-container {\n",
              "      display:flex;\n",
              "      flex-wrap:wrap;\n",
              "      gap: 12px;\n",
              "    }\n",
              "\n",
              "    .colab-df-convert {\n",
              "      background-color: #E8F0FE;\n",
              "      border: none;\n",
              "      border-radius: 50%;\n",
              "      cursor: pointer;\n",
              "      display: none;\n",
              "      fill: #1967D2;\n",
              "      height: 32px;\n",
              "      padding: 0 0 0 0;\n",
              "      width: 32px;\n",
              "    }\n",
              "\n",
              "    .colab-df-convert:hover {\n",
              "      background-color: #E2EBFA;\n",
              "      box-shadow: 0px 1px 2px rgba(60, 64, 67, 0.3), 0px 1px 3px 1px rgba(60, 64, 67, 0.15);\n",
              "      fill: #174EA6;\n",
              "    }\n",
              "\n",
              "    [theme=dark] .colab-df-convert {\n",
              "      background-color: #3B4455;\n",
              "      fill: #D2E3FC;\n",
              "    }\n",
              "\n",
              "    [theme=dark] .colab-df-convert:hover {\n",
              "      background-color: #434B5C;\n",
              "      box-shadow: 0px 1px 3px 1px rgba(0, 0, 0, 0.15);\n",
              "      filter: drop-shadow(0px 1px 2px rgba(0, 0, 0, 0.3));\n",
              "      fill: #FFFFFF;\n",
              "    }\n",
              "  </style>\n",
              "\n",
              "      <script>\n",
              "        const buttonEl =\n",
              "          document.querySelector('#df-095b564a-eb73-4252-8b00-39aae5b58673 button.colab-df-convert');\n",
              "        buttonEl.style.display =\n",
              "          google.colab.kernel.accessAllowed ? 'block' : 'none';\n",
              "\n",
              "        async function convertToInteractive(key) {\n",
              "          const element = document.querySelector('#df-095b564a-eb73-4252-8b00-39aae5b58673');\n",
              "          const dataTable =\n",
              "            await google.colab.kernel.invokeFunction('convertToInteractive',\n",
              "                                                     [key], {});\n",
              "          if (!dataTable) return;\n",
              "\n",
              "          const docLinkHtml = 'Like what you see? Visit the ' +\n",
              "            '<a target=\"_blank\" href=https://colab.research.google.com/notebooks/data_table.ipynb>data table notebook</a>'\n",
              "            + ' to learn more about interactive tables.';\n",
              "          element.innerHTML = '';\n",
              "          dataTable['output_type'] = 'display_data';\n",
              "          await google.colab.output.renderOutput(dataTable, element);\n",
              "          const docLink = document.createElement('div');\n",
              "          docLink.innerHTML = docLinkHtml;\n",
              "          element.appendChild(docLink);\n",
              "        }\n",
              "      </script>\n",
              "    </div>\n",
              "  </div>\n",
              "  "
            ],
            "text/plain": [
              "   ingredients_name                                ingredients_details\n",
              "0  Propylene Glycol  \\n    propylene glycol can cause scalp dryness..."
            ]
          },
          "execution_count": 47,
          "metadata": {},
          "output_type": "execute_result"
        }
      ],
      "source": [
        "pd.read_csv(\"hair.csv\").head(1)"
      ]
    },
    {
      "cell_type": "code",
      "execution_count": null,
      "metadata": {
        "colab": {
          "base_uri": "https://localhost:8080/"
        },
        "id": "V_b869jkz-BK",
        "outputId": "cdeb7af6-9058-4420-e358-f26330819a9a"
      },
      "outputs": [
        {
          "data": {
            "text/plain": [
              "74"
            ]
          },
          "execution_count": 42,
          "metadata": {},
          "output_type": "execute_result"
        }
      ],
      "source": [
        "len(hair_chemical_exp)"
      ]
    },
    {
      "cell_type": "code",
      "execution_count": null,
      "metadata": {
        "colab": {
          "base_uri": "https://localhost:8080/"
        },
        "id": "tiavfCYDFtJq",
        "outputId": "e8c8c474-da2b-40e9-ad83-7aa8cfe32033"
      },
      "outputs": [
        {
          "data": {
            "text/plain": [
              "74"
            ]
          },
          "execution_count": 43,
          "metadata": {},
          "output_type": "execute_result"
        }
      ],
      "source": [
        "len(hair_chemical_name)\n"
      ]
    },
    {
      "cell_type": "code",
      "execution_count": null,
      "metadata": {
        "id": "WOPt5X3DFvqI"
      },
      "outputs": [],
      "source": [
        "!pip install streamlit\n",
        "!npm install localtunnel"
      ]
    },
    {
      "cell_type": "code",
      "execution_count": null,
      "metadata": {
        "colab": {
          "base_uri": "https://localhost:8080/"
        },
        "id": "Ws6r1thBFz4j",
        "outputId": "974fe8a5-fdf0-4b4f-e778-b41504b3629e"
      },
      "outputs": [
        {
          "name": "stdout",
          "output_type": "stream",
          "text": [
            "\u001b[K\u001b[?25hnpx: installed 22 in 3.412s\n",
            "\n",
            "Collecting usage statistics. To deactivate, set browser.gatherUsageStats to False.\n",
            "\u001b[0m\n",
            "\u001b[0m\n",
            "\u001b[34m\u001b[1m  You can now view your Streamlit app in your browser.\u001b[0m\n",
            "\u001b[0m\n",
            "\u001b[34m  Network URL: \u001b[0m\u001b[1mhttp://172.28.0.12:8501\u001b[0m\n",
            "\u001b[34m  External URL: \u001b[0m\u001b[1mhttp://35.245.50.216:8501\u001b[0m\n",
            "\u001b[0m\n",
            "your url is: https://tough-drinks-tickle.loca.lt\n",
            "\u001b[34m  Stopping...\u001b[0m\n",
            "^C\n"
          ]
        }
      ],
      "source": [
        "!streamlit run app.py & npx localtunnel --port 8501"
      ]
    },
    {
      "cell_type": "code",
      "execution_count": null,
      "metadata": {
        "colab": {
          "base_uri": "https://localhost:8080/"
        },
        "id": "Hsk55RTsJ1yo",
        "outputId": "3c26da1a-5a7a-4b73-bba0-0850d8b868a7"
      },
      "outputs": [
        {
          "name": "stdout",
          "output_type": "stream",
          "text": [
            "35.245.50.216\n"
          ]
        }
      ],
      "source": [
        "from urllib.request import urlopen\n",
        "import re as r\n",
        "\n",
        "def getIP():\n",
        "    d = str(urlopen('http://checkip.dyndns.com/').read())\n",
        "\n",
        "    return r.compile(r'Address: (\\d+\\.\\d+\\.\\d+\\.\\d+)').search(d).group(1)\n",
        "\n",
        "print(getIP())"
      ]
    },
    {
      "cell_type": "code",
      "execution_count": null,
      "metadata": {
        "id": "JsvUTVO9KY3R"
      },
      "outputs": [],
      "source": [
        "\"35.245.50.216\""
      ]
    },
    {
      "cell_type": "code",
      "execution_count": null,
      "metadata": {
        "id": "oFKat3T3kMz9"
      },
      "outputs": [],
      "source": [
        "!pip install spacy\n",
        "!python -m spacy download en_core_web_md"
      ]
    },
    {
      "cell_type": "code",
      "execution_count": null,
      "metadata": {
        "id": "45M9wNBBkvOx"
      },
      "outputs": [],
      "source": [
        "import spacy\n",
        "nlp=spacy.load(\"en_core_web_md\")"
      ]
    },
    {
      "cell_type": "code",
      "execution_count": null,
      "metadata": {
        "id": "1KX4DnrOk7K-"
      },
      "outputs": [],
      "source": [
        "w1=\"dress\"\n",
        "w2=\"t-shirt\"\n"
      ]
    },
    {
      "cell_type": "code",
      "execution_count": null,
      "metadata": {
        "id": "FkvqgM0RlOBG"
      },
      "outputs": [],
      "source": [
        "w1=nlp.vocab[w1]\n",
        "w2=nlp.vocab[w2]\n"
      ]
    },
    {
      "cell_type": "code",
      "execution_count": null,
      "metadata": {
        "colab": {
          "base_uri": "https://localhost:8080/"
        },
        "id": "rGEvcndKlPa7",
        "outputId": "991a59ff-b215-469b-a0ef-c9dcd4647352"
      },
      "outputs": [
        {
          "name": "stderr",
          "output_type": "stream",
          "text": [
            "<ipython-input-31-19d2f2989fb4>:1: UserWarning: [W008] Evaluating Lexeme.similarity based on empty vectors.\n",
            "  w2.similarity(w1)\n"
          ]
        },
        {
          "data": {
            "text/plain": [
              "0.0"
            ]
          },
          "execution_count": 31,
          "metadata": {},
          "output_type": "execute_result"
        }
      ],
      "source": [
        "w2.similarity(w1)"
      ]
    },
    {
      "cell_type": "code",
      "execution_count": null,
      "metadata": {
        "id": "JpItb9mJlWOy"
      },
      "outputs": [],
      "source": []
    }
  ],
  "metadata": {
    "colab": {
      "gpuType": "T4",
      "provenance": []
    },
    "gpuClass": "standard",
    "kernelspec": {
      "display_name": "Python 3.10.11 64-bit ('venv')",
      "language": "python",
      "name": "python3"
    },
    "language_info": {
      "codemirror_mode": {
        "name": "ipython",
        "version": 3
      },
      "file_extension": ".py",
      "mimetype": "text/x-python",
      "name": "python",
      "nbconvert_exporter": "python",
      "pygments_lexer": "ipython3",
      "version": "3.10.11"
    },
    "vscode": {
      "interpreter": {
        "hash": "1762875d695c3b8ce31fc2c385c40c45ae7c7b01a87f50658d419512c57bca88"
      }
    }
  },
  "nbformat": 4,
  "nbformat_minor": 0
}
